{
  "cells": [
    {
      "cell_type": "markdown",
      "metadata": {
        "id": "0hP_ij3TbS2M"
      },
      "source": [
        "# Baseline Chatbot"
      ]
    },
    {
      "cell_type": "markdown",
      "metadata": {
        "id": "OaFzuS7dbbri"
      },
      "source": [
        "## Preparation"
      ]
    },
    {
      "cell_type": "code",
      "execution_count": 1,
      "metadata": {
        "id": "qy2q-UktbwNN"
      },
      "outputs": [],
      "source": [
        "import os\n",
        "# from google.colab import drive\n",
        "import pickle"
      ]
    },
    {
      "cell_type": "code",
      "execution_count": 2,
      "metadata": {
        "colab": {
          "base_uri": "https://localhost:8080/"
        },
        "id": "VzE0tdxmHYZ_",
        "outputId": "d4c9ad15-04f4-4557-b115-a75820102ac4"
      },
      "outputs": [
        {
          "name": "stdout",
          "output_type": "stream",
          "text": [
            "Note: you may need to restart the kernel to use updated packages.\n"
          ]
        },
        {
          "name": "stderr",
          "output_type": "stream",
          "text": [
            "ERROR: Invalid requirement: '#'\n"
          ]
        },
        {
          "name": "stdout",
          "output_type": "stream",
          "text": [
            "Requirement already satisfied: sentencepiece in c:\\users\\karen\\appdata\\local\\packages\\pythonsoftwarefoundation.python.3.10_qbz5n2kfra8p0\\localcache\\local-packages\\python310\\site-packages (0.1.99)\n",
            "Note: you may need to restart the kernel to use updated packages.\n",
            "Requirement already satisfied: datasets in c:\\users\\karen\\appdata\\local\\packages\\pythonsoftwarefoundation.python.3.10_qbz5n2kfra8p0\\localcache\\local-packages\\python310\\site-packages (2.13.1)\n",
            "Requirement already satisfied: numpy>=1.17 in c:\\users\\karen\\appdata\\local\\packages\\pythonsoftwarefoundation.python.3.10_qbz5n2kfra8p0\\localcache\\local-packages\\python310\\site-packages (from datasets) (1.23.4)\n",
            "Requirement already satisfied: pyarrow>=8.0.0 in c:\\users\\karen\\appdata\\local\\packages\\pythonsoftwarefoundation.python.3.10_qbz5n2kfra8p0\\localcache\\local-packages\\python310\\site-packages (from datasets) (12.0.1)\n",
            "Requirement already satisfied: dill<0.3.7,>=0.3.0 in c:\\users\\karen\\appdata\\local\\packages\\pythonsoftwarefoundation.python.3.10_qbz5n2kfra8p0\\localcache\\local-packages\\python310\\site-packages (from datasets) (0.3.6)\n",
            "Requirement already satisfied: pandas in c:\\users\\karen\\appdata\\local\\packages\\pythonsoftwarefoundation.python.3.10_qbz5n2kfra8p0\\localcache\\local-packages\\python310\\site-packages (from datasets) (1.5.2)\n",
            "Requirement already satisfied: requests>=2.19.0 in c:\\users\\karen\\appdata\\local\\packages\\pythonsoftwarefoundation.python.3.10_qbz5n2kfra8p0\\localcache\\local-packages\\python310\\site-packages (from datasets) (2.28.1)\n",
            "Requirement already satisfied: tqdm>=4.62.1 in c:\\users\\karen\\appdata\\local\\packages\\pythonsoftwarefoundation.python.3.10_qbz5n2kfra8p0\\localcache\\local-packages\\python310\\site-packages (from datasets) (4.64.1)\n",
            "Requirement already satisfied: xxhash in c:\\users\\karen\\appdata\\local\\packages\\pythonsoftwarefoundation.python.3.10_qbz5n2kfra8p0\\localcache\\local-packages\\python310\\site-packages (from datasets) (3.2.0)\n",
            "Requirement already satisfied: multiprocess in c:\\users\\karen\\appdata\\local\\packages\\pythonsoftwarefoundation.python.3.10_qbz5n2kfra8p0\\localcache\\local-packages\\python310\\site-packages (from datasets) (0.70.14)\n",
            "Requirement already satisfied: fsspec[http]>=2021.11.1 in c:\\users\\karen\\appdata\\local\\packages\\pythonsoftwarefoundation.python.3.10_qbz5n2kfra8p0\\localcache\\local-packages\\python310\\site-packages (from datasets) (2023.6.0)\n",
            "Requirement already satisfied: aiohttp in c:\\users\\karen\\appdata\\local\\packages\\pythonsoftwarefoundation.python.3.10_qbz5n2kfra8p0\\localcache\\local-packages\\python310\\site-packages (from datasets) (3.8.4)\n",
            "Requirement already satisfied: huggingface-hub<1.0.0,>=0.11.0 in c:\\users\\karen\\appdata\\local\\packages\\pythonsoftwarefoundation.python.3.10_qbz5n2kfra8p0\\localcache\\local-packages\\python310\\site-packages (from datasets) (0.12.0)\n",
            "Requirement already satisfied: packaging in c:\\users\\karen\\appdata\\local\\packages\\pythonsoftwarefoundation.python.3.10_qbz5n2kfra8p0\\localcache\\local-packages\\python310\\site-packages (from datasets) (21.3)\n",
            "Requirement already satisfied: pyyaml>=5.1 in c:\\users\\karen\\appdata\\local\\packages\\pythonsoftwarefoundation.python.3.10_qbz5n2kfra8p0\\localcache\\local-packages\\python310\\site-packages (from datasets) (6.0)\n",
            "Requirement already satisfied: attrs>=17.3.0 in c:\\users\\karen\\appdata\\local\\packages\\pythonsoftwarefoundation.python.3.10_qbz5n2kfra8p0\\localcache\\local-packages\\python310\\site-packages (from aiohttp->datasets) (22.1.0)\n",
            "Requirement already satisfied: charset-normalizer<4.0,>=2.0 in c:\\users\\karen\\appdata\\local\\packages\\pythonsoftwarefoundation.python.3.10_qbz5n2kfra8p0\\localcache\\local-packages\\python310\\site-packages (from aiohttp->datasets) (2.1.1)\n",
            "Requirement already satisfied: multidict<7.0,>=4.5 in c:\\users\\karen\\appdata\\local\\packages\\pythonsoftwarefoundation.python.3.10_qbz5n2kfra8p0\\localcache\\local-packages\\python310\\site-packages (from aiohttp->datasets) (6.0.4)\n",
            "Requirement already satisfied: async-timeout<5.0,>=4.0.0a3 in c:\\users\\karen\\appdata\\local\\packages\\pythonsoftwarefoundation.python.3.10_qbz5n2kfra8p0\\localcache\\local-packages\\python310\\site-packages (from aiohttp->datasets) (4.0.2)\n",
            "Requirement already satisfied: yarl<2.0,>=1.0 in c:\\users\\karen\\appdata\\local\\packages\\pythonsoftwarefoundation.python.3.10_qbz5n2kfra8p0\\localcache\\local-packages\\python310\\site-packages (from aiohttp->datasets) (1.9.2)\n",
            "Requirement already satisfied: frozenlist>=1.1.1 in c:\\users\\karen\\appdata\\local\\packages\\pythonsoftwarefoundation.python.3.10_qbz5n2kfra8p0\\localcache\\local-packages\\python310\\site-packages (from aiohttp->datasets) (1.3.3)\n",
            "Requirement already satisfied: aiosignal>=1.1.2 in c:\\users\\karen\\appdata\\local\\packages\\pythonsoftwarefoundation.python.3.10_qbz5n2kfra8p0\\localcache\\local-packages\\python310\\site-packages (from aiohttp->datasets) (1.3.1)\n",
            "Requirement already satisfied: filelock in c:\\users\\karen\\appdata\\local\\packages\\pythonsoftwarefoundation.python.3.10_qbz5n2kfra8p0\\localcache\\local-packages\\python310\\site-packages (from huggingface-hub<1.0.0,>=0.11.0->datasets) (3.9.0)\n",
            "Requirement already satisfied: typing-extensions>=3.7.4.3 in c:\\users\\karen\\appdata\\local\\packages\\pythonsoftwarefoundation.python.3.10_qbz5n2kfra8p0\\localcache\\local-packages\\python310\\site-packages (from huggingface-hub<1.0.0,>=0.11.0->datasets) (4.4.0)\n",
            "Requirement already satisfied: pyparsing!=3.0.5,>=2.0.2 in c:\\users\\karen\\appdata\\local\\packages\\pythonsoftwarefoundation.python.3.10_qbz5n2kfra8p0\\localcache\\local-packages\\python310\\site-packages (from packaging->datasets) (3.0.9)\n",
            "Requirement already satisfied: idna<4,>=2.5 in c:\\users\\karen\\appdata\\local\\packages\\pythonsoftwarefoundation.python.3.10_qbz5n2kfra8p0\\localcache\\local-packages\\python310\\site-packages (from requests>=2.19.0->datasets) (3.4)\n",
            "Requirement already satisfied: urllib3<1.27,>=1.21.1 in c:\\users\\karen\\appdata\\local\\packages\\pythonsoftwarefoundation.python.3.10_qbz5n2kfra8p0\\localcache\\local-packages\\python310\\site-packages (from requests>=2.19.0->datasets) (1.26.13)\n",
            "Requirement already satisfied: certifi>=2017.4.17 in c:\\users\\karen\\appdata\\local\\packages\\pythonsoftwarefoundation.python.3.10_qbz5n2kfra8p0\\localcache\\local-packages\\python310\\site-packages (from requests>=2.19.0->datasets) (2022.12.7)\n",
            "Requirement already satisfied: colorama in c:\\users\\karen\\appdata\\local\\packages\\pythonsoftwarefoundation.python.3.10_qbz5n2kfra8p0\\localcache\\local-packages\\python310\\site-packages (from tqdm>=4.62.1->datasets) (0.4.6)\n",
            "Requirement already satisfied: python-dateutil>=2.8.1 in c:\\users\\karen\\appdata\\local\\packages\\pythonsoftwarefoundation.python.3.10_qbz5n2kfra8p0\\localcache\\local-packages\\python310\\site-packages (from pandas->datasets) (2.8.2)\n",
            "Requirement already satisfied: pytz>=2020.1 in c:\\users\\karen\\appdata\\local\\packages\\pythonsoftwarefoundation.python.3.10_qbz5n2kfra8p0\\localcache\\local-packages\\python310\\site-packages (from pandas->datasets) (2022.7)\n",
            "Requirement already satisfied: six>=1.5 in c:\\users\\karen\\appdata\\local\\packages\\pythonsoftwarefoundation.python.3.10_qbz5n2kfra8p0\\localcache\\local-packages\\python310\\site-packages (from python-dateutil>=2.8.1->pandas->datasets) (1.16.0)\n",
            "Note: you may need to restart the kernel to use updated packages.\n",
            "Note: you may need to restart the kernel to use updated packages.Collecting git+https://github.com/huggingface/transformers\n",
            "  Cloning https://github.com/huggingface/transformers to c:\\users\\karen\\appdata\\local\\temp\\pip-req-build-k1r0mh4_\n",
            "  Resolved https://github.com/huggingface/transformers to commit 6eedfa6dd15dc1e22a55ae036f681914e5a0d9a1\n",
            "  Installing build dependencies: started\n",
            "  Installing build dependencies: finished with status 'done'\n",
            "  Getting requirements to build wheel: started\n",
            "  Getting requirements to build wheel: finished with status 'done'\n",
            "  Preparing metadata (pyproject.toml): started\n",
            "  Preparing metadata (pyproject.toml): finished with status 'done'\n",
            "Requirement already satisfied: filelock in c:\\users\\karen\\appdata\\local\\packages\\pythonsoftwarefoundation.python.3.10_qbz5n2kfra8p0\\localcache\\local-packages\\python310\\site-packages (from transformers==4.31.0.dev0) (3.9.0)\n",
            "Collecting huggingface-hub<1.0,>=0.14.1 (from transformers==4.31.0.dev0)\n",
            "  Downloading huggingface_hub-0.15.1-py3-none-any.whl (236 kB)\n",
            "     ------------------------------------ 236.8/236.8 kB 322.3 kB/s eta 0:00:00\n",
            "Requirement already satisfied: numpy>=1.17 in c:\\users\\karen\\appdata\\local\\packages\\pythonsoftwarefoundation.python.3.10_qbz5n2kfra8p0\\localcache\\local-packages\\python310\\site-packages (from transformers==4.31.0.dev0) (1.23.4)\n",
            "Requirement already satisfied: packaging>=20.0 in c:\\users\\karen\\appdata\\local\\packages\\pythonsoftwarefoundation.python.3.10_qbz5n2kfra8p0\\localcache\\local-packages\\python310\\site-packages (from transformers==4.31.0.dev0) (21.3)\n",
            "Requirement already satisfied: pyyaml>=5.1 in c:\\users\\karen\\appdata\\local\\packages\\pythonsoftwarefoundation.python.3.10_qbz5n2kfra8p0\\localcache\\local-packages\\python310\\site-packages (from transformers==4.31.0.dev0) (6.0)\n",
            "Requirement already satisfied: regex!=2019.12.17 in c:\\users\\karen\\appdata\\local\\packages\\pythonsoftwarefoundation.python.3.10_qbz5n2kfra8p0\\localcache\\local-packages\\python310\\site-packages (from transformers==4.31.0.dev0) (2022.10.31)\n",
            "Requirement already satisfied: requests in c:\\users\\karen\\appdata\\local\\packages\\pythonsoftwarefoundation.python.3.10_qbz5n2kfra8p0\\localcache\\local-packages\\python310\\site-packages (from transformers==4.31.0.dev0) (2.28.1)\n",
            "Requirement already satisfied: tokenizers!=0.11.3,<0.14,>=0.11.1 in c:\\users\\karen\\appdata\\local\\packages\\pythonsoftwarefoundation.python.3.10_qbz5n2kfra8p0\\localcache\\local-packages\\python310\\site-packages (from transformers==4.31.0.dev0) (0.13.2)\n",
            "Collecting safetensors>=0.3.1 (from transformers==4.31.0.dev0)\n",
            "  Downloading safetensors-0.3.1-cp310-cp310-win_amd64.whl (263 kB)\n",
            "     ------------------------------------ 263.7/263.7 kB 225.3 kB/s eta 0:00:00\n",
            "Requirement already satisfied: tqdm>=4.27 in c:\\users\\karen\\appdata\\local\\packages\\pythonsoftwarefoundation.python.3.10_qbz5n2kfra8p0\\localcache\\local-packages\\python310\\site-packages (from transformers==4.31.0.dev0) (4.64.1)\n",
            "Requirement already satisfied: fsspec in c:\\users\\karen\\appdata\\local\\packages\\pythonsoftwarefoundation.python.3.10_qbz5n2kfra8p0\\localcache\\local-packages\\python310\\site-packages (from huggingface-hub<1.0,>=0.14.1->transformers==4.31.0.dev0) (2023.6.0)\n",
            "Requirement already satisfied: typing-extensions>=3.7.4.3 in c:\\users\\karen\\appdata\\local\\packages\\pythonsoftwarefoundation.python.3.10_qbz5n2kfra8p0\\localcache\\local-packages\\python310\\site-packages (from huggingface-hub<1.0,>=0.14.1->transformers==4.31.0.dev0) (4.4.0)\n",
            "Requirement already satisfied: pyparsing!=3.0.5,>=2.0.2 in c:\\users\\karen\\appdata\\local\\packages\\pythonsoftwarefoundation.python.3.10_qbz5n2kfra8p0\\localcache\\local-packages\\python310\\site-packages (from packaging>=20.0->transformers==4.31.0.dev0) (3.0.9)\n",
            "Requirement already satisfied: colorama in c:\\users\\karen\\appdata\\local\\packages\\pythonsoftwarefoundation.python.3.10_qbz5n2kfra8p0\\localcache\\local-packages\\python310\\site-packages (from tqdm>=4.27->transformers==4.31.0.dev0) (0.4.6)\n",
            "Requirement already satisfied: charset-normalizer<3,>=2 in c:\\users\\karen\\appdata\\local\\packages\\pythonsoftwarefoundation.python.3.10_qbz5n2kfra8p0\\localcache\\local-packages\\python310\\site-packages (from requests->transformers==4.31.0.dev0) (2.1.1)\n",
            "Requirement already satisfied: idna<4,>=2.5 in c:\\users\\karen\\appdata\\local\\packages\\pythonsoftwarefoundation.python.3.10_qbz5n2kfra8p0\\localcache\\local-packages\\python310\\site-packages (from requests->transformers==4.31.0.dev0) (3.4)\n",
            "Requirement already satisfied: urllib3<1.27,>=1.21.1 in c:\\users\\karen\\appdata\\local\\packages\\pythonsoftwarefoundation.python.3.10_qbz5n2kfra8p0\\localcache\\local-packages\\python310\\site-packages (from requests->transformers==4.31.0.dev0) (1.26.13)\n",
            "Requirement already satisfied: certifi>=2017.4.17 in c:\\users\\karen\\appdata\\local\\packages\\pythonsoftwarefoundation.python.3.10_qbz5n2kfra8p0\\localcache\\local-packages\\python310\\site-packages (from requests->transformers==4.31.0.dev0) (2022.12.7)\n",
            "Building wheels for collected packages: transformers\n",
            "  Building wheel for transformers (pyproject.toml): started\n",
            "  Building wheel for transformers (pyproject.toml): still running...\n",
            "  Building wheel for transformers (pyproject.toml): still running...\n",
            "  Building wheel for transformers (pyproject.toml): still running...\n",
            "  Building wheel for transformers (pyproject.toml): still running...\n",
            "  Building wheel for transformers (pyproject.toml): finished with status 'done'\n",
            "  Created wheel for transformers: filename=transformers-4.31.0.dev0-py3-none-any.whl size=7283343 sha256=09d333ebd0b38529a17ad291c36e3e75c747a92809d578122242d6870a9a09a0\n",
            "  Stored in directory: C:\\Users\\Karen\\AppData\\Local\\Temp\\pip-ephem-wheel-cache-95qwiuze\\wheels\\c0\\14\\d6\\6c9a5582d2ac191ec0a483be151a4495fe1eb2a6706ca49f1b\n",
            "Successfully built transformers\n",
            "Installing collected packages: safetensors, huggingface-hub, transformers\n",
            "  Attempting uninstall: huggingface-hub\n",
            "    Found existing installation: huggingface-hub 0.12.0\n",
            "    Uninstalling huggingface-hub-0.12.0:\n",
            "      Successfully uninstalled huggingface-hub-0.12.0\n",
            "  Attempting uninstall: transformers\n",
            "    Found existing installation: transformers 4.26.1\n",
            "    Uninstalling transformers-4.26.1:\n",
            "      Successfully uninstalled transformers-4.26.1\n",
            "Successfully installed huggingface-hub-0.15.1 safetensors-0.3.1 transformers-4.31.0.dev0\n",
            "\n"
          ]
        },
        {
          "name": "stderr",
          "output_type": "stream",
          "text": [
            "  Running command git clone --filter=blob:none --quiet https://github.com/huggingface/transformers 'C:\\Users\\Karen\\AppData\\Local\\Temp\\pip-req-build-k1r0mh4_'UsageError: Line magic function `%ip` not found.\n",
            "\n"
          ]
        }
      ],
      "source": [
        "# Mount my google drive\n",
        "# drive_path = \"/content/gdrive\"\n",
        "# drive.mount(drive_path)\n",
        "\n",
        "# Prepare environment\n",
        "%pip install PyYAML==5.4  # reference: https://github.com/ultralytics/yolov5/issues/414]\n",
        "\n",
        "%pip install sentencepiece\n",
        "%pip install datasets\n",
        "%pip install git+https://github.com/huggingface/transformers\n",
        "%pip install transformers[torch]\n",
        "\n",
        "import yaml"
      ]
    },
    {
      "cell_type": "markdown",
      "metadata": {
        "id": "-B_afOwIeNR4"
      },
      "source": [
        "## Building the model"
      ]
    },
    {
      "cell_type": "code",
      "execution_count": 10,
      "metadata": {
        "colab": {
          "base_uri": "https://localhost:8080/"
        },
        "id": "73Y37pUtePRi",
        "outputId": "c47f88d3-336e-445c-8f27-11f37b8c27a9"
      },
      "outputs": [
        {
          "name": "stdout",
          "output_type": "stream",
          "text": [
            "07/03/2023 15:25:28 - WARNING - __main__ - Process rank: 0, device: cpu, n_gpu: 0distributed training: True, 16-bits training: False\n",
            "07/03/2023 15:25:30 - WARNING - datasets.builder - Found cached dataset text (C:/Users/Karen/.cache/huggingface/datasets/text/default-a3d6db81fc953c3d/0.0.0/cb1e9bd71a82ad27976be3b12b407850fe2837d80c22c5e03a28949843a8ace2)\n"
          ]
        },
        {
          "name": "stderr",
          "output_type": "stream",
          "text": [
            "comet_ml is installed but `COMET_API_KEY` is not set.\n",
            "\n",
            "  0%|          | 0/2 [00:00<?, ?it/s]\n",
            "100%|██████████| 2/2 [00:00<00:00, 62.31it/s]\n",
            "Traceback (most recent call last):\n",
            "  File \"c:\\Users\\Karen\\Documents\\Erasmus Mundus LCT Masters\\Universität des Saarlandes\\Sommer Semester\\BERT and Friends - Pretrained LMs in NLU\\Tandem-plus-plus\\model\\run_clm.py\", line 527, in <module>\n",
            "    main()\n",
            "  File \"c:\\Users\\Karen\\Documents\\Erasmus Mundus LCT Masters\\Universität des Saarlandes\\Sommer Semester\\BERT and Friends - Pretrained LMs in NLU\\Tandem-plus-plus\\model\\run_clm.py\", line 325, in main\n",
            "    tokenizer = AutoTokenizer.from_pretrained(model_args.model_name_or_path, **tokenizer_kwargs)\n",
            "  File \"C:\\Users\\Karen\\AppData\\Local\\Packages\\PythonSoftwareFoundation.Python.3.10_qbz5n2kfra8p0\\LocalCache\\local-packages\\Python310\\site-packages\\transformers\\models\\auto\\tokenization_auto.py\", line 713, in from_pretrained\n",
            "    return tokenizer_class_py.from_pretrained(pretrained_model_name_or_path, *inputs, **kwargs)\n",
            "  File \"C:\\Users\\Karen\\AppData\\Local\\Packages\\PythonSoftwareFoundation.Python.3.10_qbz5n2kfra8p0\\LocalCache\\local-packages\\Python310\\site-packages\\transformers\\tokenization_utils_base.py\", line 1830, in from_pretrained\n",
            "    raise EnvironmentError(\n",
            "OSError: Can't load tokenizer for 'dbmdz/german-gpt2'. If you were trying to load it from 'https://huggingface.co/models', make sure you don't have a local directory with the same name. Otherwise, make sure 'dbmdz/german-gpt2' is the correct path to a directory containing all relevant files for a GPT2Tokenizer tokenizer.\n"
          ]
        }
      ],
      "source": [
        "import yaml\n",
        "with open(\"model_config.yaml\", \"rb\") as yaml_f:\n",
        "  config = yaml.safe_load(yaml_f)\n",
        "config_general = config[\"general\"]\n",
        "config_dataset = config[\"dataset\"]\n",
        "config_train = config[\"train\"]\n",
        "\n",
        "!python3 ./run_clm.py --model_name_or_path={config_general[\"basemodel\"]} --train_file={config_dataset[\"train_path\"]} \\\n",
        "    --validation_file={config_dataset[\"dev_path\"]} \\\n",
        "    --do_train \\\n",
        "    --do_eval \\\n",
        "    --num_train_epochs={config_train[\"epochs\"]} \\\n",
        "    --save_steps={config_train[\"save_steps\"]} \\\n",
        "    --save_total_limit={config_train[\"save_total_limit\"]} \\\n",
        "    --per_device_train_batch_size={config_train[\"per_device_train_batch_size\"]} \\\n",
        "    --per_device_eval_batch_size={config_train[\"per_device_eval_batch_size\"]} \\\n",
        "    --output_dir={config_train[\"output_dir\"]} \\\n",
        "    --use_fast_tokenizer={config_train[\"use_fast_tokenizer\"]}"
      ]
    }
  ],
  "metadata": {
    "accelerator": "GPU",
    "colab": {
      "gpuType": "T4",
      "provenance": []
    },
    "kernelspec": {
      "display_name": "Python 3",
      "name": "python3"
    },
    "language_info": {
      "codemirror_mode": {
        "name": "ipython",
        "version": 3
      },
      "file_extension": ".py",
      "mimetype": "text/x-python",
      "name": "python",
      "nbconvert_exporter": "python",
      "pygments_lexer": "ipython3",
      "version": "3.10.11"
    }
  },
  "nbformat": 4,
  "nbformat_minor": 0
}
