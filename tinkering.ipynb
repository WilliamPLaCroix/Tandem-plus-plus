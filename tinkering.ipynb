{
 "cells": [
  {
   "cell_type": "code",
   "execution_count": 10,
   "metadata": {},
   "outputs": [],
   "source": [
    "from nltk.tokenize import word_tokenize\n",
    "import pandas as pd\n",
    "\n",
    "def tokenize_dataset()-> list:\n",
    "    \"\"\"\n",
    "    Grouped data structure format:\n",
    "    groups[group number][column][row]\n",
    "    group number: 0-5, indexed to [A1, A2, B1, B2, C1, C2]\n",
    "    column: 'CEFR', 'Text'\n",
    "    row: zero-indexed\n",
    "    example: groups[0]['Text'][0]\n",
    "    pulls first text from A1 group\n",
    "    \"\"\"\n",
    "    with open('./cefr-dataset/data.csv', 'r', encoding=\"utf-8\") as file:\n",
    "        gb = pd.read_csv(file, index_col=0).applymap(word_tokenize).groupby('CEFR')\n",
    "        groups = [gb.get_group(group) for group in gb.groups]\n",
    "    return groups\n"
   ]
  },
  {
   "cell_type": "code",
   "execution_count": 17,
   "metadata": {},
   "outputs": [
    {
     "name": "stdout",
     "output_type": "stream",
     "text": [
      "[                                                   Text\n",
      "CEFR                                                   \n",
      "A1    [Lieber, Johannes, ,, ich, freue, mich, schon,...\n",
      "A1    [Achtung, an, Gleis, vier, :, Auf, Gleis, vier...\n",
      "A1    [Hallo, ,, hier, ist, Maria, ., Ich, gehe, heu...\n",
      "A1    [Guten, Tag, ., Wie, kann, ich, Ihnen, helfen,...\n",
      "A1    [Guten, Morgen, ,, Frau, Kittferner, ., Guten,...\n",
      "A1    [Hallo, ,, wir, machen, eine, Umfrage, zum, Th...\n",
      "A1    [Hallo, Caro, ,, hier, ist, Lena, ., Hi, Lena,...\n",
      "A1    [Hallo, Jana, ., Na, ,, wie, war, dein, Wochen...\n",
      "A1    [Liebe, Carmen, ,, am, kommenden, Sonntag, hab...\n",
      "A1    [Ismail, spielt, gut, Fußball, ., Jetzt, will,...\n",
      "A1    [Heute, hat, er, ein, Vorstellungsgespräch, fü...\n",
      "A1    [Ich, kann, dir, helfen, “, ,, sagt, Anna, ., ...\n",
      "A1    [Am, nächsten, Montag, steht, Sergio, um, 7:00...\n",
      "A1    [Es, ist, Sonntagmittag, und, Kim, geht, es, n...\n",
      "A1    [Kim, sieht, zuerst, zum, Sprungturm, und, dan...\n",
      "A1    [Sie, müssen, mit, der, U-Bahn, fahren, ., Das...\n",
      "A1    [Wo, ist, mein, Ticket, ?, Ich, suche, in, mei...\n",
      "A1    [Ich, heiße, Sonja, Weber, ., Ich, bin, 27, Ja...\n",
      "A1    [Eine, Woche, später, Ich, koche, eine, Kartof...\n",
      "A1    [Hallo, Maria, !, endlich, habe, ich, unsere, ...\n",
      "A1    [Liebe, Serpil, ,, lieber, Cengiz, ,, wir, hei...\n",
      "A1    [Hassan, und, seine, Familie, kommen, aus, dem...\n",
      "A1    [Hassan, bekommt, einen, Arbeitsplatz, als, Gä...\n",
      "A1    [Amir, braucht, neue, Schuhe, ., Hakim, und, R...\n",
      "A1    [Rana, und, Hakim, sitzen, an, Amirs, Bett, .,...\n",
      "A1    [Hallo, !, Endlich, ist, Sommer, !, Ich, möcht...\n",
      "A1    [Hallo, ,, ich, bin, ’, s, ,, Verena, ., Ich, ...\n",
      "A1    [So, ,, das, ist, euer, Stundenplan, ., Ihr, s...\n",
      "A1    [Bitte, beachten, Sie, :, Wegen, einer, Störun...\n",
      "A1    [Die, Goetheschule, ist, groß, ., Wir, gehen, ...\n",
      "A1    [Ich, komme, aus, Deutschland, ., Meine, Mutte...,                                                    Text\n",
      "CEFR                                                   \n",
      "A2    [Am, 27, ., April, ,, dem, Girls, ', und, Boys...\n",
      "A2    [Sogar, Jonas, nickt, ., Obwohl, der, Thierry,...\n",
      "A2    [Er, mag, einfach, Menschen, ., Ismail, heißt,...\n",
      "A2    [Super, ,, Ismail, !, ,, brüllt, Thierry, über...\n",
      "A2    [Am, Sonntag, kommt, meine, Schwester, zu, uns...\n",
      "...                                                 ...\n",
      "A2    [Guten, Morgen, ,, Sie, müssen, die, neue, Pra...\n",
      "A2    [Also, ,, ich, kann, mir, das, Leben, ohne, In...\n",
      "A2    [Herzlichen, Glückwunsch, ,, Felix, ., Du, has...\n",
      "A2    [Und, jetzt, noch, unsere, Veranstaltungstipps...\n",
      "A2    [Ach, ,, die, liebe, Gesundheit, ., Das, ist, ...\n",
      "\n",
      "[90 rows x 1 columns],                                                    Text\n",
      "CEFR                                                   \n",
      "B1    [Wie, es, Monika, in, Dresden, geht, ?, Ganz, ...\n",
      "B1    [Ich, habe, schon, als, Kind, davon, geträumt,...\n",
      "B1    [Das, hat, mir, immer, mehr, Spaß, gemacht, ,,...\n",
      "B1    [Wirklich, ,, zwei, Monate, lang, habe, ich, m...\n",
      "B1    [Liebe, Kolleginnen, und, Kollegen, ,, wie, ih...\n",
      "...                                                 ...\n",
      "B1    [Wie, Du, weißt, ,, verbringe, ich, hier, mein...\n",
      "B1    [Mein, schönstes, Erlebnis, ?, Da, muss, ich, ...\n",
      "B1    [Frau, Bajramaj, –, oder, darf, ich, Lira, sag...\n",
      "B1    [Liebe, Kolleginnen, und, Kollegen, ,, wie, ih...\n",
      "B1    [Guten, Morgen, ,, Frau, Engler, ., Herzlich, ...\n",
      "\n",
      "[90 rows x 1 columns],                                                    Text\n",
      "CEFR                                                   \n",
      "B2    [„, Alltag, aktuell, “, heute, mit, Markus, Wo...\n",
      "B2    [Seit, dem, Dieselskandal, 2015, ist, jedoch, ...\n",
      "B2    [Dass, wir, ganze, Städte, ohne, Autos, erlebe...\n",
      "B2    [So, ganz, simpel, ist, das, natürlich, auch, ...\n",
      "B2    [Als, Content-Managerin, bin, ich, dafür, zust...\n",
      "...                                                 ...\n",
      "B2    [Für, mich, ist, es, wichtig, ,, sowohl, gut, ...\n",
      "B2    [Ich, halte, das, für, eine, ziemlich, deutsch...\n",
      "B2    [Über, eine, Milliarde, Menschen, reisen, jähr...\n",
      "B2    [Laut, einer, Studie, gehört, zu, den, meistge...\n",
      "B2    [Die, allgemeine, Qualifikation, für, das, Stu...\n",
      "\n",
      "[115 rows x 1 columns],                                                    Text\n",
      "CEFR                                                   \n",
      "C1    [Als, die, ersten, Biobauern, in, Deutschland,...\n",
      "C1    [Für, die, deutschen, Hochschulen, ist, das, e...\n",
      "C1    [Aus, der, Grafik, geht, hervor, ,, dass, nur,...\n",
      "C1    [Immer, häufiger, reicht, offensichtlich, bei,...\n",
      "C1    [„, Tanzen, kann, einen, sehr, glücklich, mach...\n",
      "...                                                 ...\n",
      "C1    [Das, Serotonin, ist, gewissermaßen, der, Gege...\n",
      "C1    [Eine, zweite, Theorie, besagt, ,, Frühjahrsmü...\n",
      "C1    [Die, Eisenspeicher, leeren, sich, über, den, ...\n",
      "C1    [Allen, diesen, Speisen, ist, gemeinsam, ,, da...\n",
      "C1    [Wer, draußen, aktiv, ist, ,, also, wandert, o...\n",
      "\n",
      "[88 rows x 1 columns],                                                    Text\n",
      "CEFR                                                   \n",
      "C2    [Die, Deutschen, sind, zuverlässig, ,, fleißig...\n",
      "C2    [Horrorszenario, beim, Landeanflug, auf, Dubli...\n",
      "C2    [Tee-Verkoster, sind, für, die, gute, und, gle...\n",
      "C2    [Für, den, Tester, ist, das, keine, leichte, A...\n",
      "C2    [Sie, verwechseln, Wörter, ,, verdrehen, Silbe...\n",
      "...                                                 ...\n",
      "C2    [Ein, gutes, Kriterium, ist, immer, die, Frage...\n",
      "C2    [Wenn, man, auf, Tourismus, als, Entwicklungsm...\n",
      "C2    [Herr, Schneider, ,, Sie, werden, heute, 85, ....\n",
      "C2    [Für, die, Verständlichkeit, eines, Textes, gi...\n",
      "C2    [Beeinflussen, Computer, und, Internet, unsere...\n",
      "\n",
      "[95 rows x 1 columns]]\n"
     ]
    }
   ],
   "source": [
    "from data_tokeniser import tokenize_cefr_texts\n",
    "data = tokenize_cefr_texts()\n",
    "print(data)"
   ]
  },
  {
   "cell_type": "code",
   "execution_count": 13,
   "metadata": {},
   "outputs": [],
   "source": [
    "import textgrid as tg # https://github.com/nltk/nltk_contrib/blob/master/nltk_contrib/textgrid.py \n",
    "import re, string\n",
    "\n",
    "pattern = re.compile('[\\[\\]]+') \n",
    "fp = open(\"rec_001_AS_id_002_1.TextGrid\", 'r', encoding=\"utf-8\").read() # arg[0] = \"ooTextGrid_filename\n",
    "grid = tg.TextGrid(fp)\n",
    "tier_0 = grid.tiers[0]\n",
    "full_text = ' '.join([text for (start, stop, text) in tier_0.simple_transcript  if text != \"<HÄSITATION>\"])\n",
    "cleaned = pattern.sub('', full_text).split()"
   ]
  },
  {
   "cell_type": "code",
   "execution_count": 14,
   "metadata": {},
   "outputs": [
    {
     "name": "stdout",
     "output_type": "stream",
     "text": [
      "['<P>', 'was', '<P>', '<P>', 'wa', '<P>', 'ich', 'versteh', 'dich', 'hab', 'grade', '<P>', 'du', 'hast', 'grad', 'nur', 'einen', 'Namen', 'gesagt', 'und', 'das', 'war', 'Höffe', '<P>', 'und', 'ich', 'hab', 'keine', 'Ahnung', 'was', 'du', 'mimi', '<P>', 'ob', '<P>', 'ah', '<P>', 'ah', '<P>', 'ich', 'hab', 'de', '<P>', 'was', 'heißt', 'einen', 'Moment', 'meinst', 'du', 'ich', 'habs', 'ja', 'nicht', '<P>', 'für', 'einen', 'Moment', '<P>', 'vergessen', 'sondern', '<P>', 'in', 'einem', 'Moment', 'höchstens', '<P>', 'aber', 'noch', 'nicht', 'mal', 'das', '<P>', 'wahrscheinlich', '<P>', 'edes', '<P>', 'mein', 'Gott', 'wenn', 'ich', 'den', 'lang', 'nicht', 'mehr', 'sehe', 'was', '<P>', 'soll', 'ich', 'machen', '<P>', 'das', 'ist', '<P>', 'das', 'ist', 'so', 'wie', 'wenn', 'ma', '<P>', 'wenn', 'ma', 'ähm', '<P>', 'wenn', 'ich', 'zum', 'Beispiel', '<P>', 'Bayrisch', 'höre', '<P>', 'dann', '<P>', 'kann', 'ich', '<P>', 'ist', 'es', 'mir', 'unmöglich', 'n', '<P>', 'österreichischen', 'Dialekt', 'nachzumachen', '<P>', 'das', 'ist', '<P>', 'genau', 'das', '<P>', 'selbe', 'und', 'so', 'wie', 'wenn', 'man', '<P>', 'nicht', 'mehr', '<P>', 'hört', '<P>', 'was', 'das', '<P>', 'für', 'ne', 'Stimme', 'ist', 'dann', 'kann', 'man', 'das', 'auch', 'nicht', 'mehr', 'imitieren', '<P>', 'was', 'wollt', 'ich', 'denn', 'jetzt', 'eben', 'noch', 'ähm', '<P>', 'ach', 'genau', 'wir', 'waren', 'bei', 'den', 'Postern', '<P>', 'wo', 'hing', 'das', 'denn', 'in', 'deinem', 'Zimmer', '<P>', 'ach', '<P>', 'oberhalb', '<P>', 'oberhalb', 'des', 'Lichts', '<P>', 'vom', 'Bett', '<P>', 'auf', 'der', 'anderen', 'Seite', '<P>', 'hehehe', '<P>', 'me', 'ist', 'höchstens', 'das', 'versteh', 'ich', 'nicht', '<P>', 'ja', '<P>', 'aber', '<P>', 'd', '<P>', 'das', 'macht', 'man', 'ja', 'wohl', 'häufiger', 'als', 'alle', 'zwanzig', 'Jahre', 'oder', 'ich', 'glaub', 'wenn', 'man', 'zwanzig', 'Jahre', 'wartet', 'ist', 'es', 'wahrscheinlich', 'schon', 'zu', 'spät', '<P>', 'aber', 'das', '<P>', 'ist', 'ne', '<P>', 'glaub', 'ich', 'ist', 'ne', '<P>', 'gute', 'Beobachtung', 'über', 'die', '<P>', 'hehe', '<P>', 'ja', 'warte', '<P>', 'stimmt', 'das', 'macht', 'tatsächlich', 'meine', 'Mutter', 'immer', 'meine', 'Mutter', 'hat', 'nen', 'unheimlichen', 'Drang', '<P>', 'ähm', '<P>', 'alle', 'mö', '<P>', 'also', 'sozusagen', '<P>', 'die', '<P>', 'die', 'komplette', '<P>', 'ähm', 'Ausrichtung', 'der', 'Möbel', '<P>', 'möglichst', '<P>', 'häufig', '<P>', 'neu', 'zu', '<P>', 'organisieren', '<P>', 'oder', '<P>', 'so', '<P>', 'ja', '<P>', 'ähm', '<P>', 'und', '<P>', 'mein', 'Vater', '<P>', 'findet', 'das', 'absolut', '<P>', 'grausam', '<P>', 'deswegen', 'eh', 'eh', 'kann', 'das', 'vielleicht', 'sein', 'dass', 'die', 'Beziehung', 'also', 'sozusagen', 'seit', 'dem', 'ich', 'ausgezogen', 'bin', 'besser', 'geworden', 'ist', '<P>', 'weil', 'sie', 'jetzt', 'mein', 'Zimmer', 'hat', 'das', 'sie', 'die', 'ganze', 'Zeit', 'umschieben', 'kann', 'ohne', 'dass', 'es', 'jemand', 'merkt', '<P>', 'hahaha', '<P>', 'ja', '<P>', 'hahaha', '<P>', 'ja', '<P>', 'die', 'Eltern', '<P>', 'hehehe', '<P>', 'ich', 'hab', '<P>', 'keine', 'Ah', 'ich', 'hab', 'keine', 'Ahnung', 'von', 'Hund', 'ich', 'weiß', 'nicht', '<P>', 'die', 'sind', 'so', 'flauschig', '<P>', 'das', 'sind', 'diese', 'flauschigen', '<P>', 'haha', '<P>', 'das', 'si', '<P>', 'der', 'sieht', 'son', 'bisschen', 'aus', 'wie', 'die', '<P>', 'wie', 'die', 'Hundversion', '<P>', 'von', '<P>', 'ähm', '<P>', 'von', '<P>', 'NANANANANA', '<P>', 'weißt', 'du', 'de', '<P>', 'die', 'Katze', '<P>', 'hehe', 'die', 'Katze', 'vom', 'NANA', '<P>', 'ne', 'ich', 'weiß', 'auch', 'nicht', 'ich', 'asoziier', 'das', 'jetzt', 'grade', '<P>', 'das', 'ist', 'auch', '<P>', 'das', 'auch', '<P>', 'die', 'hat', 'auch', 'so', 'dieses', '<P>', 'dieses', 'w', '<P>', 'weiße', '<P>', 'aber', 'natürlich', 'nicht', 'fellige', 'aber', 'prinzipiell', '<P>', 'ich', 'ich', 'glaub', 'Cocker', 'Spaniel', '<P>', 'wenn', 'ich', 'jetzt', 'grade', 'tatsächlich', 'das', 'richtige', 'Bild', 'im', 'Kopf', 'hab', '<P>', 'dann', 'gucken', 'die', 'auch', 'so', 'ähnlich', '<P>', 'die', 'haben', 'so', 'ne', 'ähnliche', 'Visage', '<P>', 'da', 'haha', '<P>', 'das', 'wahrscheinlich', 'darüber', '<P>', 'wei', 'was', '<P>', 'irgendwie', '<P>', 'stimmt', 'weil', 'die', '<P>', 'weil', 'die', 'Visage', 'von', 'NANANANANA', 'natürlich', '<P>', 'unenedlich', 'hässlich', 'und', 'deformiert', 'ist', '<P>', 'aber', 'aber', 'ich', 'glaub', '<P>', 'deswegen', 'sieht', 'sie', 'wieder', 'aus', 'wien', 'Hund', '<P>', 'hehe', '<P>', 'hahaha', '<P>', 'du', 'mei', '<P>', 'du', 'mei', '<P>', 'du', 'meinst', 'also', '<P>', 'hässlich', '<P>', 'in', '<P>', 'in', 'in', 'also', 'nicht', 'als', 'Tierrrasse', 'per', 'se', 'sondern', '<P>', 'generell', '<P>', 'hahaha', '<P>', 'hehehe', '<P>', 'die', 'Beziehung', 'der', 'Katze', 'wie', 'welche', 'Beziehung', 'hat', 'die', 'Katze', 'denn', '<P>', 'ja', '<P>', 'bedürftig', '<P>', 'echt', 'findest', 'du', 'ich', 'hätte', 'es', 'genau', 'anders', 'gesagt', 'ich', 'finde', 'eh', 'ich', 'finde', 'tatsächlich', 'sie', 'ist', 'die', 'Einzige', 'bei', 'der', 'die', 'Katze', '<P>', 'sich', '<P>', 'sozusagen', 'bei', 'der', 'd', 'die', 'Katze', 'bei', 'bei', 'der', 'man', 'keine', 'Angst', 'haben', 'muss', '<P>', 'dass', 'die', 'Katze', 'gleich', 'losbeißt', 'und', 'kratzt', '<P>', 'ja', 'äh', '<P>', 'Angst', 'ises', 'falsche', 'Wort', 'sagen', 'wir', 'mal', 'ich', '<P>', 'ich', 'akzeptiere', 'dass', 'es', '<P>', 'nicht', 'ganz', '<P>', 'nicht', 'ganz', 'berechenbar', 'ist', '<P>', 'hahaha', '<P>', 'hehehe', '<P>', 'hehehe', '<P>', 'aber', 'ich', 'würd', 'sie', 'garnicht', 'erst', 'anfassen', 'wollen', 'die', 'beißt', 'und', 'kratzt', 'doch', 'sofort', 'zurück', '<P>', 'nein', '<P>', 'weil', 'ich', 'sie', 'nicht', 'angefasst', 'hab', 'ich', 'habs', 'ja', 'nicht', 'dazu', 'kommen', 'lassen', '<P>', 'ich', 'mein', '<P>', 'ja', 'gut', 'ich', 'hab', 'ja', 'auch', 'mit', '<P>', 'beobachtet', 'dass', 'du', 'da', 'irgendwie', '<P>', 'dich', 'n', 'bisschen', '<P>', 'engagiert', 'hast', 'dass', 'es', 'dass', 'da', 'irgendwie', 'was', 'zustande', 'kommt', 'aber', 'i', 'ich', 'war', 'vollkommen', '<P>', 'hehehe', '<P>', 'ja', 'bi', 'bist', 'dun', 'Tierfreund', '<P>', 'haha', '<P>', 'ja', 'ja', '<P>', 'haha', '<P>', 'hehe', '<P>', 'NANA', 'NANA', '<P>', 'hehehe', '<P>', 'ich', 'ne', 'ich', 'hab', '<P>', 'ich', 'ich', 'weiß', 'nicht', 'ob', 'ich', 'irgendnen', 'Film', 'von', 'dem', 'gesehn', 'hab', 'nach', 'neunzehnhundertsechzig', '<P>', 'ja', 'ok', 'aber', '<P>', 'was', 'heißt', 'es', 'hat', 'der', 'nachn', 'hat', 'der', 'sagen', 'wir', 'mal', 'nach', 'neunzehnsiebzig', 'noch', 'irgendnen', 'Film', 'gemacht', 'den', 'ich', 'hätte', 'sehen', 'müssen', '<P>', 'NANA', '<P>', 'NANA', '<P>', 'das', 'ah', 'gut', '<P>', 'das', 'ehm', '<P>', 'das', 'ehm', 'aber', 'bekanntes', 'Motiv', 'ich', 'glaub', '<P>', 'ähm', '<P>', 'was', 'fällt', 'mir', 'dazu', 'ein', 'äh', 'ja', '<P>', 'der', 'Boxer', 'der', 'Box', 'ähm', '<P>', 'kennst', 'du', '<P>', 'ähm', 'wie', 'ein', 'wilder', 'Stier', 'von', '<P>', 'NANANA', 'ne', '<P>', 'das', 'ja', 'auch', 'das', 'ja', 'auch', 'von', 'so', 'von', 'dem', '<P>', 'Boxer', 'den', 'er', 'da', 'spielt', 'und', 'der', 'wird', 'auch', 'am', 'Ende', 'ganz', 'fett', '<P>', 'und', 'tritt', 'dann', 'und', 'tritt', 'dann', 'nur', 'noch', 'in', 'seinem', 'eigenen', '<P>', 'Klub', '<P>', 'als', 'Unterhalter', 'auf', 'und', 'erzählt', 'immer', 'so', 'merkwürdige', 'Witze', 'die', 'alle', 'irgendwie', 'lustig', 'finden', 'aber', 'in', 'erster', 'Linie', 'sind', 'sie', 'nicht', 'lustig', 'sondern', 'das', 'ist', 'einfach', 'nurn', 'fetter', 'Mensch', 'der', '<P>', 'irgendwie', '<P>', 'Versager', 'ist', 'und', 'nichts', '<P>', 'mehr', 'auf', 'die', 'Reihe', 'kriegt', 'und', 'ich', '<P>', 'glaub', '<P>', 'da', 'gibts', 'dann', 'auch', 'so', 'ne', 'Szene', 'wo', 'er', 'so', '<P>', 'furchtbar', 'ausrastet', 'weil', 'niemand', '<P>', 'die', 'Sachen', 'lustig', 'findet', 'aber', 'das', '<P>', 'das', '<P>', 'ist', 'sehr', 'gut', '<P>', 'sehr', 'guter', 'Film', 'ja', 'gut', '<P>', 'ja', '<P>', 'Zweifel', 'worüber', '<P>', 'an', 'was', '<P>', 'hahaha', '<P>', 'hehehe', '<P>', 'ja', '<P>', 'aber', '<P>', 'ich', '<P>', 'find', '<P>', 'aber', 'wenn', 'du', 'das', 'auch', 'in', 'erster', 'Linie', 'schon', 'so', 'ne', '<P>', 'weibliche', 'Geschichte', 'oder', 'also', '<P>', 'also', 'wei', 'weibliche', 'Vereinsamung', 'die', 'Katzenlady', '<P>', 'die', 'Katzenlady', '<P>', 'von', 'den', 'NANA', 'gibts', 'glaub', 'ich', 'die', 'Katzenlady', 'es', '<P>', 'gibt', 'auch', 'in', 'anderen', '<P>', 'Situationen', 'noch', '<P>', 'die', 'Katzenlady', '<P>', 'ge', '<P>', 'ja', '<P>', 'oder', 'oder', 'es', 'ist', 'tatsächlich', 'ne', '<P>', 'Frage', '<P>', 'von', '<P>', 'reinen', '<P>', 'Mengenverhältnissen', 'dass', '<P>', 'die', '<P>', 'dass', '<P>', 'die', '<P>', 'sozusagen', 'Frauen', 'wenn', 'sie', 'vereinsamen', '<P>', 'holen', 'sie', 'sich', 'sofort', '<P>', 'zehn', 'oder', 'zwanzig', 'Katzen', 'und', 'dann', 'auch', 'die', 'ganzen', 'Babies', 'von', 'denen', '<P>', 'während', 'Männer', 'sozusagen', 'eine', '<P>', 'oder', 'zwei', 'spezielle', '<P>', 'Katzen', '<P>', 'zu', 'sich', 'nehmen', '<P>', 'um', 'das', '<P>', 'so', '<P>', 'stimmt', 'ach', 'es', 'gibt', 'sogar', 'nen', '<P>', 'Film', 'mit', 'äh', 'ne', 'das', 'ist', '<P>', 'nicht', 'NANA', 'NANA', 'aber', '<P>', 'das', 'irgend', 'so', 'ein', 'französischer', '<P>', 'ja', '<P>', 'haben', '<P>', 'wir', '<P>', 'hehe', 'we', 'e', '<P>', 'genau', 'von', 'wem', 'sind', 'noch', 'mal', 'diese', 'ganzen', '<P>', 'französischen', '<P>', 'Thriller', 'dings', '<P>', 'Filme', 'wie', 'zum', 'Beispiel', 'der', 'Chef', '<P>', 'ne', 'nicht', '<P>', 'NANANA', '<P>', 'die', 'Th', '<P>', 'die', 'Thriller', '<P>', 'sowas', 'wie', '<P>', 'der', 'Chef', '<P>', 'naja', '<P>', 'gut', '<P>', 'ne', '<P>', 'fällt', 'mir', 'auch', 'nicht', 'ein', '<P>', 'aber', 'genau', 'da', 'gehts', 'um', '<P>', 'da', 'gehts', 'um', 'irgendwie', 'nen', '<P>', 'Bankraub', 'und', 'da', 'werden', 'dann', 'so', '<P>', 'genau', 'dann', 'werden', 'noch', 'so', '<P>', 'zwei', 'andere', 'zusammengezogen', 'und', 'einer', 'von', 'denen', 'ist', 'der', 'Kommissar', 'der', '<P>', 'irgendwo', 'wohnt', '<P>', 'und', '<P>', 'und', '<P>', 'drei', 'Katzen', 'hat', '<P>', 'und', 'drei', 'ka', 'der', 'hat', 'genau', 'drei', 'Katzen', 'und', 'der', 'kommt', 'immer', 'heim', '<P>', 'und', '<P>', 'geht', 'dann', 'in', 'die', 'Küche', '<P>', 'und', 'spricht', 'dann', 'immer', 'mit', 'den', 'Katzen', 'und', 'eine', 'Katze', 'ist', 'immer', 'bockig', '<P>', 'genau', 'der', '<P>', 'Film', '<P>', 'aber', 'den', 'haben', 'wir', 'nicht', 'zusammen', 'gesehen', 'denn', 'hab', 'ich', 'irgendwann', '<P>', 'das', 'Kinos', '<P>', 'ja', 'stimmt', '<P>', 'hehe', '<P>', 'was', 'aber', '<P>', 'ne', 'ich', 'also', 'ich', 'hab', 'ich', '<P>', 'hab', 'da', 'glaub', 'ich', '<P>', 'kein', 'ich', '<P>', 'weiß', 'nich', 'tob', 'ich', 'da', 'dabei', 'war', '<P>', 'ich', 'bin', 'so', '<P>', 'dumpf', '<P>', 'hehe', '<P>', 'akkustisch', 'oder', '<P>', 'haha', 'ach', '<P>', 'Arschkeks', '<P>', 'haha', '<P>', 'beim', 'links', 'dann', 'tatsächlich', 'aber', '<P>', 'da', '<P>', 'wobei', 'da', 'hats', 'länger', 'gehalten', 'da', 'hat', 'ichs', 'tatsächlich', 'noch', 'an', 'am', '<P>', 'Folgetag', 'noch', 'mindestens', '<P>', 'bis', 'Mittags', '<P>', 'hehe', '<P>', 'ja', 'bitte', '<P>', 'hehe', '<P>', 'wo', 'saßen', 'die', 'direkt', 'neben', 'dir', 'oder', 'hinter', 'dir', 'oder', '<P>', 'vor', 'echt', '<P>', 'da', '<P>', 'haben', 'die', 'da', 'eigene', '<P>', 'Sitzplätze', 'eigentlich', '<P>', 'hehe', '<P>', 'hehehe', '<P>', 'sich', '<P>', 'anvertrauen', '<P>', 'oder', 'anvertraut', 'werden', '<P>', 'ja', 'aber', 'ähm', '<P>', 'bist', 'du', 'der', 'Meinung', 'dass', '<P>', 'dass', '<P>', 'Kleinkinder', 'schon', 'so', '<P>', 'kognitiv', '<P>', 'entwickelt', 'sind', 'dass', 'sie', '<P>', 'sowas', '<P>', 'wie', 'vertrauen', 'in', '<P>', 'dem', '<P>', 'Art', 'in', 'der', 'Art', 'wie', 'du', 'das', 'jetzt', '<P>', 'grade', '<P>', 'hehe', '<P>', 'hehe', '<P>', 'hehehehe', '<P>', 'hehe', '<P>', 'das', '<P>', 'Baby', 'hatte', 'keinen', 'Bezug', '<P>', 'zum', '<P>', 'Flugzeug', '<P>', 'hehehe', '<P>', 'ja', '<P>', 'ja', '<P>', 'natürlich', '<P>', 'das', '<P>', 'ist', 'ja', '<P>', 'was', 'heißt', 'denn', 'los', 'du', '<P>', 'du', 'meinst', '<P>', 'sozusagen', 'dass', 'er', 'halt', 'ein', 'bisschen', 'aufm', 'Boden', 'noch', 'beschleunigt', 'bevor', 'er', 'abheben', 'kann', '<P>', 'ja', '<P>', 'ja', '<P>', 'haha', '<P>', 'du', 'mei', 'hehe', 'du', 'meinst', 'er', '<P>', 'he', 'er', 'zieht', 'noch', 'die', 'Handbremse', '<P>', 'an', '<P>', 'und', '<P>', 'geht', 'schon', 'auf', 'Gas', 'und', 'lässt', 'dann', 'die', 'Handbremse', '<P>', 'los', 'und', '<P>', 'dann', 'zieht', 'er', 'los', '<P>', 'de', 'ich', 'ich', '<P>', 'glaub', 'ich', '<P>', 'hatte', '<P>', 'viel', 'zu', '<P>', 'viel', '<P>', 'Angst', '<P>', 'nej', 'nej', 'es', 'ist', 'eigentlich', 'ich', 'war', 'gestresst', 'oder', '<P>', 'nervös', 'sagen', 'wir', 'es', 'mal', 'so', '<P>', 'ich', '<P>', 'hatte', 'keine', '<P>', 'Angst', 'hehehe', '<P>', 'auch', 'der', '<P>', 'Herr', 'L', 'ah', 'ok', 'achso', '<P>', 'd', '<P>', 'd', 'der', 'konnte', 'nicht', 'mehr', 'zurück', 'aufs', 'Festland', 'weil', 'er', 'festgestellt', 'hat', 'dass', 'er', 'Flugangst', '<P>', 'hat', '<P>', 'haha', '<P>', 'ah', 'siehst', 'du', '<P>', 'das', 'hab', 'ich', 'auch', 'eh', '<P>', 'als', 'ich', 'mit', '<P>', 'ähm', '<P>', 'als', 'ich', 'mit', '<P>', 'eh', '<P>', 'unserem', 'NANA', 'darüber', 'gesprochen', 'habe', 'dass', 'ich', 'dich', '<P>', 'besuchen', '<P>', 'eh', '<P>', 'fahre', 'oder', 'werde', '<P>', 'da', 'wurde', 'auch', '<P>', 'ich', 'hab', 'da', 'garnicht', 'dran', 'gedacht', 'dass', 'man', 'auch', 'mit', 'dem', 'Zug', 'eh', 'nach', '<P>', 'dahin', '<P>', 'fahren', 'kann', '<P>', 'ist', 'es', '<P>', 'das', 'ist', 'aber', 'dann', 'teurer', 'automatisch', 'oder', '<P>', 'ah', 'ist', '<P>', 'ok', '<P>', 'ja', 'ja', 'gut', 'aber', '<P>', 'das', '<P>', 'ja', '<P>', 'ah', '<P>', 'ja', '<P>', 'ja', '<P>', 'ja', '<P>', 'ja', '<P>']\n"
     ]
    }
   ],
   "source": [
    "from data_tokeniser import tokenize_textgrid\n",
    "\n",
    "text = tokenize_textgrid(\"rec_001_AS_id_002_1.TextGrid\")\n",
    "print(text)"
   ]
  }
 ],
 "metadata": {
  "kernelspec": {
   "display_name": "Python 3",
   "language": "python",
   "name": "python3"
  },
  "language_info": {
   "codemirror_mode": {
    "name": "ipython",
    "version": 3
   },
   "file_extension": ".py",
   "mimetype": "text/x-python",
   "name": "python",
   "nbconvert_exporter": "python",
   "pygments_lexer": "ipython3",
   "version": "3.8.10"
  },
  "orig_nbformat": 4
 },
 "nbformat": 4,
 "nbformat_minor": 2
}
